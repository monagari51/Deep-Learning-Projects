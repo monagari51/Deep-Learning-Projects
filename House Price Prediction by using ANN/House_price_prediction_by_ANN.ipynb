{
  "nbformat": 4,
  "nbformat_minor": 0,
  "metadata": {
    "colab": {
      "name": "House price prediction by ANN.ipynb",
      "provenance": [],
      "collapsed_sections": []
    },
    "kernelspec": {
      "name": "python3",
      "display_name": "Python 3"
    }
  },
  "cells": [
    {
      "cell_type": "markdown",
      "metadata": {
        "id": "rsU2tfYXHZOt",
        "colab_type": "text"
      },
      "source": [
        "# House Price Prediction by using Artificial Neural Network(ANN)\n",
        "\n"
      ]
    },
    {
      "cell_type": "code",
      "metadata": {
        "colab_type": "code",
        "id": "RWSJpsyKqHjH",
        "colab": {
          "base_uri": "https://localhost:8080/",
          "height": 35
        },
        "outputId": "0647f803-da20-422b-8490-8780069c9aa5"
      },
      "source": [
        "# Mounting Google Drive locally\n",
        "from google.colab import drive\n",
        "drive.mount('/content/drive')"
      ],
      "execution_count": null,
      "outputs": [
        {
          "output_type": "stream",
          "text": [
            "Drive already mounted at /content/drive; to attempt to forcibly remount, call drive.mount(\"/content/drive\", force_remount=True).\n"
          ],
          "name": "stdout"
        }
      ]
    },
    {
      "cell_type": "code",
      "metadata": {
        "id": "G7_uqFpKSx_t",
        "colab_type": "code",
        "colab": {}
      },
      "source": [
        "# Import data analysis libraries\n",
        "import pandas as pd\n",
        "import numpy as np\n",
        "\n",
        "# import visualization libraries\n",
        "import matplotlib.pyplot as plt\n",
        "import seaborn as sns\n",
        "\n",
        "%matplotlib inline"
      ],
      "execution_count": null,
      "outputs": []
    },
    {
      "cell_type": "markdown",
      "metadata": {
        "id": "VgxeaA0ii4jn",
        "colab_type": "text"
      },
      "source": [
        "# Exploring the dataset"
      ]
    },
    {
      "cell_type": "code",
      "metadata": {
        "id": "wlPegf09SGEP",
        "colab_type": "code",
        "colab": {
          "base_uri": "https://localhost:8080/",
          "height": 194
        },
        "outputId": "d8d61814-23d2-4bd5-a953-db3b6db6b195"
      },
      "source": [
        "# Load the dataset\n",
        "df=pd.read_csv('/content/drive/My Drive/house price prediction/house_price.csv')\n",
        "df.head()"
      ],
      "execution_count": null,
      "outputs": [
        {
          "output_type": "execute_result",
          "data": {
            "text/html": [
              "<div>\n",
              "<style scoped>\n",
              "    .dataframe tbody tr th:only-of-type {\n",
              "        vertical-align: middle;\n",
              "    }\n",
              "\n",
              "    .dataframe tbody tr th {\n",
              "        vertical-align: top;\n",
              "    }\n",
              "\n",
              "    .dataframe thead th {\n",
              "        text-align: right;\n",
              "    }\n",
              "</style>\n",
              "<table border=\"1\" class=\"dataframe\">\n",
              "  <thead>\n",
              "    <tr style=\"text-align: right;\">\n",
              "      <th></th>\n",
              "      <th>LotArea</th>\n",
              "      <th>OverallQual</th>\n",
              "      <th>OverallCond</th>\n",
              "      <th>TotalBsmtSF</th>\n",
              "      <th>FullBath</th>\n",
              "      <th>HalfBath</th>\n",
              "      <th>BedroomAbvGr</th>\n",
              "      <th>TotRmsAbvGrd</th>\n",
              "      <th>Fireplaces</th>\n",
              "      <th>GarageArea</th>\n",
              "      <th>AboveMedianPrice</th>\n",
              "    </tr>\n",
              "  </thead>\n",
              "  <tbody>\n",
              "    <tr>\n",
              "      <th>0</th>\n",
              "      <td>8450</td>\n",
              "      <td>7</td>\n",
              "      <td>5</td>\n",
              "      <td>856</td>\n",
              "      <td>2</td>\n",
              "      <td>1</td>\n",
              "      <td>3</td>\n",
              "      <td>8</td>\n",
              "      <td>0</td>\n",
              "      <td>548</td>\n",
              "      <td>1</td>\n",
              "    </tr>\n",
              "    <tr>\n",
              "      <th>1</th>\n",
              "      <td>9600</td>\n",
              "      <td>6</td>\n",
              "      <td>8</td>\n",
              "      <td>1262</td>\n",
              "      <td>2</td>\n",
              "      <td>0</td>\n",
              "      <td>3</td>\n",
              "      <td>6</td>\n",
              "      <td>1</td>\n",
              "      <td>460</td>\n",
              "      <td>1</td>\n",
              "    </tr>\n",
              "    <tr>\n",
              "      <th>2</th>\n",
              "      <td>11250</td>\n",
              "      <td>7</td>\n",
              "      <td>5</td>\n",
              "      <td>920</td>\n",
              "      <td>2</td>\n",
              "      <td>1</td>\n",
              "      <td>3</td>\n",
              "      <td>6</td>\n",
              "      <td>1</td>\n",
              "      <td>608</td>\n",
              "      <td>1</td>\n",
              "    </tr>\n",
              "    <tr>\n",
              "      <th>3</th>\n",
              "      <td>9550</td>\n",
              "      <td>7</td>\n",
              "      <td>5</td>\n",
              "      <td>756</td>\n",
              "      <td>1</td>\n",
              "      <td>0</td>\n",
              "      <td>3</td>\n",
              "      <td>7</td>\n",
              "      <td>1</td>\n",
              "      <td>642</td>\n",
              "      <td>0</td>\n",
              "    </tr>\n",
              "    <tr>\n",
              "      <th>4</th>\n",
              "      <td>14260</td>\n",
              "      <td>8</td>\n",
              "      <td>5</td>\n",
              "      <td>1145</td>\n",
              "      <td>2</td>\n",
              "      <td>1</td>\n",
              "      <td>4</td>\n",
              "      <td>9</td>\n",
              "      <td>1</td>\n",
              "      <td>836</td>\n",
              "      <td>1</td>\n",
              "    </tr>\n",
              "  </tbody>\n",
              "</table>\n",
              "</div>"
            ],
            "text/plain": [
              "   LotArea  OverallQual  OverallCond  ...  Fireplaces  GarageArea  AboveMedianPrice\n",
              "0     8450            7            5  ...           0         548                 1\n",
              "1     9600            6            8  ...           1         460                 1\n",
              "2    11250            7            5  ...           1         608                 1\n",
              "3     9550            7            5  ...           1         642                 0\n",
              "4    14260            8            5  ...           1         836                 1\n",
              "\n",
              "[5 rows x 11 columns]"
            ]
          },
          "metadata": {
            "tags": []
          },
          "execution_count": 524
        }
      ]
    },
    {
      "cell_type": "code",
      "metadata": {
        "id": "BdkEOQ3GSGG-",
        "colab_type": "code",
        "colab": {
          "base_uri": "https://localhost:8080/",
          "height": 88
        },
        "outputId": "fa903c67-6d93-40b3-ac7e-d9e99c7cf340"
      },
      "source": [
        "# Display columns\n",
        "df.columns"
      ],
      "execution_count": null,
      "outputs": [
        {
          "output_type": "execute_result",
          "data": {
            "text/plain": [
              "Index(['LotArea', 'OverallQual', 'OverallCond', 'TotalBsmtSF', 'FullBath',\n",
              "       'HalfBath', 'BedroomAbvGr', 'TotRmsAbvGrd', 'Fireplaces', 'GarageArea',\n",
              "       'AboveMedianPrice'],\n",
              "      dtype='object')"
            ]
          },
          "metadata": {
            "tags": []
          },
          "execution_count": 525
        }
      ]
    },
    {
      "cell_type": "code",
      "metadata": {
        "id": "nQ-UDyhaCIcL",
        "colab_type": "code",
        "colab": {
          "base_uri": "https://localhost:8080/",
          "height": 35
        },
        "outputId": "b3349e23-0677-48d4-9696-4c14f8813d62"
      },
      "source": [
        "# Number of rows and colummns\n",
        "df.shape"
      ],
      "execution_count": null,
      "outputs": [
        {
          "output_type": "execute_result",
          "data": {
            "text/plain": [
              "(1460, 11)"
            ]
          },
          "metadata": {
            "tags": []
          },
          "execution_count": 526
        }
      ]
    },
    {
      "cell_type": "code",
      "metadata": {
        "id": "X8xgfCxHZZGV",
        "colab_type": "code",
        "colab": {}
      },
      "source": [
        "# Importing essential libraries for visualizations\n",
        "import matplotlib.pyplot as plt\n",
        "import seaborn as sns\n",
        "%matplotlib inline"
      ],
      "execution_count": null,
      "outputs": []
    },
    {
      "cell_type": "code",
      "metadata": {
        "id": "3qgw1JGTZZI2",
        "colab_type": "code",
        "colab": {
          "base_uri": "https://localhost:8080/",
          "height": 513
        },
        "outputId": "1b3c0a0f-e809-47b3-d6c7-e4405422efb7"
      },
      "source": [
        "# Visualizing the count of 'AboveMedianPrice' in the dataset\n",
        "plt.figure(figsize=(8,8))\n",
        "sns.countplot(x='AboveMedianPrice', data=df)\n",
        "plt.xlabel('0:prices above the media price,       1: prices below the median price')\n",
        "plt.ylabel('Count')\n",
        "plt.title('Median price Visualization')\n",
        "plt.show()"
      ],
      "execution_count": null,
      "outputs": [
        {
          "output_type": "display_data",
          "data": {
            "image/png": "[encoded data removed]",
            "text/plain": [
              "<Figure size 576x576 with 1 Axes>"
            ]
          },
          "metadata": {
            "tags": [],
            "needs_background": "light"
          }
        }
      ]
    },
    {
      "cell_type": "code",
      "metadata": {
        "id": "EahCJVKyZZNV",
        "colab_type": "code",
        "colab": {
          "base_uri": "https://localhost:8080/",
          "height": 70
        },
        "outputId": "476003b7-dcac-480c-92a9-920b7b6c6385"
      },
      "source": [
        "# Count of 0 and 1\n",
        "df['AboveMedianPrice'].value_counts()"
      ],
      "execution_count": null,
      "outputs": [
        {
          "output_type": "execute_result",
          "data": {
            "text/plain": [
              "0    732\n",
              "1    728\n",
              "Name: AboveMedianPrice, dtype: int64"
            ]
          },
          "metadata": {
            "tags": []
          },
          "execution_count": 529
        }
      ]
    },
    {
      "cell_type": "code",
      "metadata": {
        "id": "M1nrwg65bdXc",
        "colab_type": "code",
        "colab": {
          "base_uri": "https://localhost:8080/",
          "height": 230
        },
        "outputId": "bf829deb-0d15-406c-b581-f3416dc57b4f"
      },
      "source": [
        "df.isnull().any()"
      ],
      "execution_count": null,
      "outputs": [
        {
          "output_type": "execute_result",
          "data": {
            "text/plain": [
              "LotArea             False\n",
              "OverallQual         False\n",
              "OverallCond         False\n",
              "TotalBsmtSF         False\n",
              "FullBath            False\n",
              "HalfBath            False\n",
              "BedroomAbvGr        False\n",
              "TotRmsAbvGrd        False\n",
              "Fireplaces          False\n",
              "GarageArea          False\n",
              "AboveMedianPrice    False\n",
              "dtype: bool"
            ]
          },
          "metadata": {
            "tags": []
          },
          "execution_count": 530
        }
      ]
    },
    {
      "cell_type": "markdown",
      "metadata": {
        "id": "4Y_SamnObqpK",
        "colab_type": "text"
      },
      "source": [
        "# Data Preprocessing"
      ]
    },
    {
      "cell_type": "code",
      "metadata": {
        "id": "wnKTr_59S8l0",
        "colab_type": "code",
        "colab": {}
      },
      "source": [
        "# Feature columns\n",
        "X = df.drop('AboveMedianPrice', axis=1)\n",
        "\n",
        "# Tatget column\n",
        "Y = df['AboveMedianPrice']"
      ],
      "execution_count": null,
      "outputs": []
    },
    {
      "cell_type": "code",
      "metadata": {
        "id": "k_qdtHgYUQsT",
        "colab_type": "code",
        "colab": {}
      },
      "source": [
        "# Normalising all the feature columns :Feature Scaling \n",
        "from sklearn.preprocessing import StandardScaler\n",
        "sc = StandardScaler()\n",
        "X_train = sc.fit_transform(X_train)\n",
        "X_test = sc.transform(X_test)"
      ],
      "execution_count": null,
      "outputs": []
    },
    {
      "cell_type": "code",
      "metadata": {
        "id": "RfZ6tzazUQuo",
        "colab_type": "code",
        "colab": {
          "base_uri": "https://localhost:8080/",
          "height": 248
        },
        "outputId": "ab54b6a5-3935-411e-951a-3a8db61065f0"
      },
      "source": [
        "# Display\n",
        "X_train"
      ],
      "execution_count": null,
      "outputs": [
        {
          "output_type": "execute_result",
          "data": {
            "text/plain": [
              "array([[ 0.01928463,  0.64696917, -0.54242479, ...,  1.52517883,\n",
              "         0.64546521,  2.22296323],\n",
              "       [-0.1215419 , -0.08444952,  0.37690877, ..., -0.93436005,\n",
              "         0.64546521, -0.43547709],\n",
              "       [-0.21246149, -0.08444952, -0.54242479, ..., -1.54924477,\n",
              "         0.64546521, -0.81112627],\n",
              "       ...,\n",
              "       [ 0.25448966,  0.64696917,  1.29624232, ...,  2.14006355,\n",
              "         0.64546521,  0.04612442],\n",
              "       [ 0.25458848,  0.64696917, -0.54242479, ...,  0.91029411,\n",
              "         0.64546521,  0.8070548 ],\n",
              "       [-0.01392078, -0.8158682 ,  1.29624232, ..., -0.31947533,\n",
              "        -0.94409008,  0.19542089]])"
            ]
          },
          "metadata": {
            "tags": []
          },
          "execution_count": 533
        }
      ]
    },
    {
      "cell_type": "code",
      "metadata": {
        "id": "oezuM1cqqENc",
        "colab_type": "code",
        "colab": {
          "base_uri": "https://localhost:8080/",
          "height": 35
        },
        "outputId": "2c4a2a23-3c6a-4637-8165-e4d3105f0ddb"
      },
      "source": [
        "# Splitting the dataset into train and test sets\n",
        "from sklearn.model_selection import train_test_split\n",
        "X_train, X_val_and_test, Y_train, Y_val_and_test = train_test_split(X_scale, Y, test_size=0.3)\n",
        "X_val, X_test, Y_val, Y_test = train_test_split(X_val_and_test, Y_val_and_test, test_size=0.5)\n",
        "print(X_train.shape, X_val.shape, X_test.shape, Y_train.shape, Y_val.shape, Y_test.shape)"
      ],
      "execution_count": null,
      "outputs": [
        {
          "output_type": "stream",
          "text": [
            "(1022, 10) (219, 10) (219, 10) (1022,) (219,) (219,)\n"
          ],
          "name": "stdout"
        }
      ]
    },
    {
      "cell_type": "markdown",
      "metadata": {
        "id": "4kKtC7aOb0AL",
        "colab_type": "text"
      },
      "source": [
        " # Building Artificial Neural Network (ANN)\n",
        " "
      ]
    },
    {
      "cell_type": "code",
      "metadata": {
        "id": "lUXFtE_fWUPc",
        "colab_type": "code",
        "colab": {}
      },
      "source": [
        "import keras\n",
        "from keras.models import Sequential\n",
        "from keras.layers import Dense"
      ],
      "execution_count": null,
      "outputs": []
    },
    {
      "cell_type": "code",
      "metadata": {
        "id": "nX1YoqsrpjgD",
        "colab_type": "code",
        "colab": {}
      },
      "source": [
        "# Initialising the ANN\n",
        "classifier = Sequential()"
      ],
      "execution_count": null,
      "outputs": []
    },
    {
      "cell_type": "code",
      "metadata": {
        "id": "GHx7oEPiX9EB",
        "colab_type": "code",
        "colab": {}
      },
      "source": [
        "# Adding the input layer and the first hidden layer\n",
        "classifier.add(Dense(units=32, kernel_initializer='he_uniform', activation='relu', input_dim=10))\n"
      ],
      "execution_count": null,
      "outputs": []
    },
    {
      "cell_type": "code",
      "metadata": {
        "colab_type": "code",
        "id": "48YJqiFz2Tv3",
        "colab": {}
      },
      "source": [
        "# Adding the second hidden layer\n",
        "classifier.add(Dense(units=32, kernel_initializer='he_uniform', activation='relu'))"
      ],
      "execution_count": null,
      "outputs": []
    },
    {
      "cell_type": "code",
      "metadata": {
        "colab_type": "code",
        "id": "p8PmYzua2Q6i",
        "colab": {}
      },
      "source": [
        "# Adding the output layer\n",
        "classifier.add(Dense(units=1, kernel_initializer='glorot_uniform', activation='sigmoid'))"
      ],
      "execution_count": null,
      "outputs": []
    },
    {
      "cell_type": "code",
      "metadata": {
        "id": "2WR0SGRs2qh_",
        "colab_type": "code",
        "colab": {}
      },
      "source": [
        "# Compiling the ANN\n",
        "classifier.compile(optimizer='adam', loss='binary_crossentropy', metrics=['accuracy'])"
      ],
      "execution_count": null,
      "outputs": []
    },
    {
      "cell_type": "code",
      "metadata": {
        "id": "ltI7OwVMnkAV",
        "colab_type": "code",
        "colab": {
          "base_uri": "https://localhost:8080/",
          "height": 1000
        },
        "outputId": "a885e170-99b4-406e-d1a0-3c43b93e91a2"
      },
      "source": [
        "# Fit the the model on the dataset\n",
        "hist = classifier.fit(X_train, Y_train,\n",
        "          batch_size=32, epochs=100,\n",
        "          validation_data=(X_val, Y_val))"
      ],
      "execution_count": null,
      "outputs": [
        {
          "output_type": "stream",
          "text": [
            "Train on 1022 samples, validate on 219 samples\n",
            "Epoch 1/100\n",
            "1022/1022 [==============================] - 0s 212us/step - loss: 0.7319 - accuracy: 0.5000 - val_loss: 0.6859 - val_accuracy: 0.4932\n",
            "Epoch 2/100\n",
            "1022/1022 [==============================] - 0s 44us/step - loss: 0.6535 - accuracy: 0.5978 - val_loss: 0.6244 - val_accuracy: 0.7215\n",
            "Epoch 3/100\n",
            "1022/1022 [==============================] - 0s 44us/step - loss: 0.5916 - accuracy: 0.8200 - val_loss: 0.5674 - val_accuracy: 0.7854\n",
            "Epoch 4/100\n",
            "1022/1022 [==============================] - 0s 47us/step - loss: 0.5304 - accuracy: 0.8249 - val_loss: 0.5093 - val_accuracy: 0.8356\n",
            "Epoch 5/100\n",
            "1022/1022 [==============================] - 0s 48us/step - loss: 0.4732 - accuracy: 0.8513 - val_loss: 0.4512 - val_accuracy: 0.8402\n",
            "Epoch 6/100\n",
            "1022/1022 [==============================] - 0s 48us/step - loss: 0.4167 - accuracy: 0.8640 - val_loss: 0.4057 - val_accuracy: 0.8402\n",
            "Epoch 7/100\n",
            "1022/1022 [==============================] - 0s 47us/step - loss: 0.3783 - accuracy: 0.8581 - val_loss: 0.3776 - val_accuracy: 0.8493\n",
            "Epoch 8/100\n",
            "1022/1022 [==============================] - 0s 43us/step - loss: 0.3547 - accuracy: 0.8650 - val_loss: 0.3599 - val_accuracy: 0.8630\n",
            "Epoch 9/100\n",
            "1022/1022 [==============================] - 0s 45us/step - loss: 0.3407 - accuracy: 0.8708 - val_loss: 0.3505 - val_accuracy: 0.8630\n",
            "Epoch 10/100\n",
            "1022/1022 [==============================] - 0s 49us/step - loss: 0.3280 - accuracy: 0.8679 - val_loss: 0.3380 - val_accuracy: 0.8676\n",
            "Epoch 11/100\n",
            "1022/1022 [==============================] - 0s 49us/step - loss: 0.3179 - accuracy: 0.8728 - val_loss: 0.3331 - val_accuracy: 0.8676\n",
            "Epoch 12/100\n",
            "1022/1022 [==============================] - 0s 48us/step - loss: 0.3115 - accuracy: 0.8689 - val_loss: 0.3320 - val_accuracy: 0.8630\n",
            "Epoch 13/100\n",
            "1022/1022 [==============================] - 0s 50us/step - loss: 0.3052 - accuracy: 0.8738 - val_loss: 0.3224 - val_accuracy: 0.8813\n",
            "Epoch 14/100\n",
            "1022/1022 [==============================] - 0s 47us/step - loss: 0.2995 - accuracy: 0.8796 - val_loss: 0.3227 - val_accuracy: 0.8630\n",
            "Epoch 15/100\n",
            "1022/1022 [==============================] - 0s 47us/step - loss: 0.2951 - accuracy: 0.8806 - val_loss: 0.3156 - val_accuracy: 0.8767\n",
            "Epoch 16/100\n",
            "1022/1022 [==============================] - 0s 44us/step - loss: 0.2897 - accuracy: 0.8806 - val_loss: 0.3154 - val_accuracy: 0.8676\n",
            "Epoch 17/100\n",
            "1022/1022 [==============================] - 0s 45us/step - loss: 0.2879 - accuracy: 0.8826 - val_loss: 0.3133 - val_accuracy: 0.8721\n",
            "Epoch 18/100\n",
            "1022/1022 [==============================] - 0s 55us/step - loss: 0.2844 - accuracy: 0.8875 - val_loss: 0.3089 - val_accuracy: 0.8721\n",
            "Epoch 19/100\n",
            "1022/1022 [==============================] - 0s 45us/step - loss: 0.2799 - accuracy: 0.8845 - val_loss: 0.3041 - val_accuracy: 0.8813\n",
            "Epoch 20/100\n",
            "1022/1022 [==============================] - 0s 44us/step - loss: 0.2751 - accuracy: 0.8885 - val_loss: 0.3016 - val_accuracy: 0.8813\n",
            "Epoch 21/100\n",
            "1022/1022 [==============================] - 0s 47us/step - loss: 0.2738 - accuracy: 0.8855 - val_loss: 0.3068 - val_accuracy: 0.8630\n",
            "Epoch 22/100\n",
            "1022/1022 [==============================] - 0s 60us/step - loss: 0.2677 - accuracy: 0.8885 - val_loss: 0.2960 - val_accuracy: 0.8767\n",
            "Epoch 23/100\n",
            "1022/1022 [==============================] - 0s 46us/step - loss: 0.2649 - accuracy: 0.8963 - val_loss: 0.2941 - val_accuracy: 0.8950\n",
            "Epoch 24/100\n",
            "1022/1022 [==============================] - 0s 46us/step - loss: 0.2600 - accuracy: 0.8943 - val_loss: 0.2900 - val_accuracy: 0.8858\n",
            "Epoch 25/100\n",
            "1022/1022 [==============================] - 0s 53us/step - loss: 0.2581 - accuracy: 0.8933 - val_loss: 0.2896 - val_accuracy: 0.8721\n",
            "Epoch 26/100\n",
            "1022/1022 [==============================] - 0s 53us/step - loss: 0.2558 - accuracy: 0.8953 - val_loss: 0.2864 - val_accuracy: 0.8813\n",
            "Epoch 27/100\n",
            "1022/1022 [==============================] - 0s 46us/step - loss: 0.2517 - accuracy: 0.9012 - val_loss: 0.2860 - val_accuracy: 0.8721\n",
            "Epoch 28/100\n",
            "1022/1022 [==============================] - 0s 46us/step - loss: 0.2530 - accuracy: 0.8933 - val_loss: 0.2811 - val_accuracy: 0.8676\n",
            "Epoch 29/100\n",
            "1022/1022 [==============================] - 0s 49us/step - loss: 0.2474 - accuracy: 0.8982 - val_loss: 0.2801 - val_accuracy: 0.8767\n",
            "Epoch 30/100\n",
            "1022/1022 [==============================] - 0s 46us/step - loss: 0.2428 - accuracy: 0.9070 - val_loss: 0.2892 - val_accuracy: 0.8721\n",
            "Epoch 31/100\n",
            "1022/1022 [==============================] - 0s 55us/step - loss: 0.2493 - accuracy: 0.8953 - val_loss: 0.2822 - val_accuracy: 0.8630\n",
            "Epoch 32/100\n",
            "1022/1022 [==============================] - 0s 45us/step - loss: 0.2415 - accuracy: 0.9051 - val_loss: 0.2748 - val_accuracy: 0.8950\n",
            "Epoch 33/100\n",
            "1022/1022 [==============================] - 0s 49us/step - loss: 0.2382 - accuracy: 0.9031 - val_loss: 0.2736 - val_accuracy: 0.8904\n",
            "Epoch 34/100\n",
            "1022/1022 [==============================] - 0s 42us/step - loss: 0.2355 - accuracy: 0.9022 - val_loss: 0.2778 - val_accuracy: 0.8721\n",
            "Epoch 35/100\n",
            "1022/1022 [==============================] - 0s 45us/step - loss: 0.2360 - accuracy: 0.9022 - val_loss: 0.2706 - val_accuracy: 0.8676\n",
            "Epoch 36/100\n",
            "1022/1022 [==============================] - 0s 52us/step - loss: 0.2395 - accuracy: 0.9012 - val_loss: 0.2731 - val_accuracy: 0.8813\n",
            "Epoch 37/100\n",
            "1022/1022 [==============================] - 0s 66us/step - loss: 0.2321 - accuracy: 0.9090 - val_loss: 0.2838 - val_accuracy: 0.8721\n",
            "Epoch 38/100\n",
            "1022/1022 [==============================] - 0s 54us/step - loss: 0.2296 - accuracy: 0.9119 - val_loss: 0.2657 - val_accuracy: 0.8813\n",
            "Epoch 39/100\n",
            "1022/1022 [==============================] - 0s 52us/step - loss: 0.2264 - accuracy: 0.9070 - val_loss: 0.2648 - val_accuracy: 0.8904\n",
            "Epoch 40/100\n",
            "1022/1022 [==============================] - 0s 55us/step - loss: 0.2245 - accuracy: 0.9070 - val_loss: 0.2622 - val_accuracy: 0.8813\n",
            "Epoch 41/100\n",
            "1022/1022 [==============================] - 0s 52us/step - loss: 0.2249 - accuracy: 0.9100 - val_loss: 0.2645 - val_accuracy: 0.8858\n",
            "Epoch 42/100\n",
            "1022/1022 [==============================] - 0s 47us/step - loss: 0.2235 - accuracy: 0.9090 - val_loss: 0.2642 - val_accuracy: 0.8858\n",
            "Epoch 43/100\n",
            "1022/1022 [==============================] - 0s 47us/step - loss: 0.2211 - accuracy: 0.9100 - val_loss: 0.2616 - val_accuracy: 0.8813\n",
            "Epoch 44/100\n",
            "1022/1022 [==============================] - 0s 50us/step - loss: 0.2212 - accuracy: 0.9070 - val_loss: 0.2605 - val_accuracy: 0.8858\n",
            "Epoch 45/100\n",
            "1022/1022 [==============================] - 0s 47us/step - loss: 0.2199 - accuracy: 0.9100 - val_loss: 0.2601 - val_accuracy: 0.8813\n",
            "Epoch 46/100\n",
            "1022/1022 [==============================] - 0s 48us/step - loss: 0.2219 - accuracy: 0.9051 - val_loss: 0.2626 - val_accuracy: 0.8995\n",
            "Epoch 47/100\n",
            "1022/1022 [==============================] - 0s 47us/step - loss: 0.2183 - accuracy: 0.9119 - val_loss: 0.2610 - val_accuracy: 0.8950\n",
            "Epoch 48/100\n",
            "1022/1022 [==============================] - 0s 52us/step - loss: 0.2222 - accuracy: 0.9061 - val_loss: 0.2604 - val_accuracy: 0.8813\n",
            "Epoch 49/100\n",
            "1022/1022 [==============================] - 0s 51us/step - loss: 0.2151 - accuracy: 0.9119 - val_loss: 0.2600 - val_accuracy: 0.8950\n",
            "Epoch 50/100\n",
            "1022/1022 [==============================] - 0s 50us/step - loss: 0.2126 - accuracy: 0.9110 - val_loss: 0.2713 - val_accuracy: 0.8813\n",
            "Epoch 51/100\n",
            "1022/1022 [==============================] - 0s 49us/step - loss: 0.2149 - accuracy: 0.9090 - val_loss: 0.2601 - val_accuracy: 0.8995\n",
            "Epoch 52/100\n",
            "1022/1022 [==============================] - 0s 48us/step - loss: 0.2135 - accuracy: 0.9119 - val_loss: 0.2607 - val_accuracy: 0.8950\n",
            "Epoch 53/100\n",
            "1022/1022 [==============================] - 0s 46us/step - loss: 0.2121 - accuracy: 0.9110 - val_loss: 0.2560 - val_accuracy: 0.8950\n",
            "Epoch 54/100\n",
            "1022/1022 [==============================] - 0s 43us/step - loss: 0.2131 - accuracy: 0.9149 - val_loss: 0.2549 - val_accuracy: 0.8904\n",
            "Epoch 55/100\n",
            "1022/1022 [==============================] - 0s 48us/step - loss: 0.2081 - accuracy: 0.9129 - val_loss: 0.2553 - val_accuracy: 0.8904\n",
            "Epoch 56/100\n",
            "1022/1022 [==============================] - 0s 49us/step - loss: 0.2074 - accuracy: 0.9129 - val_loss: 0.2764 - val_accuracy: 0.8813\n",
            "Epoch 57/100\n",
            "1022/1022 [==============================] - 0s 46us/step - loss: 0.2177 - accuracy: 0.9129 - val_loss: 0.2606 - val_accuracy: 0.8995\n",
            "Epoch 58/100\n",
            "1022/1022 [==============================] - 0s 48us/step - loss: 0.2066 - accuracy: 0.9237 - val_loss: 0.2805 - val_accuracy: 0.8584\n",
            "Epoch 59/100\n",
            "1022/1022 [==============================] - 0s 53us/step - loss: 0.2107 - accuracy: 0.9198 - val_loss: 0.2538 - val_accuracy: 0.8904\n",
            "Epoch 60/100\n",
            "1022/1022 [==============================] - 0s 48us/step - loss: 0.2118 - accuracy: 0.9217 - val_loss: 0.2582 - val_accuracy: 0.8904\n",
            "Epoch 61/100\n",
            "1022/1022 [==============================] - 0s 46us/step - loss: 0.2079 - accuracy: 0.9070 - val_loss: 0.2735 - val_accuracy: 0.8858\n",
            "Epoch 62/100\n",
            "1022/1022 [==============================] - 0s 50us/step - loss: 0.2078 - accuracy: 0.9139 - val_loss: 0.2617 - val_accuracy: 0.8995\n",
            "Epoch 63/100\n",
            "1022/1022 [==============================] - 0s 56us/step - loss: 0.2028 - accuracy: 0.9188 - val_loss: 0.2541 - val_accuracy: 0.8950\n",
            "Epoch 64/100\n",
            "1022/1022 [==============================] - 0s 49us/step - loss: 0.2018 - accuracy: 0.9198 - val_loss: 0.2532 - val_accuracy: 0.8858\n",
            "Epoch 65/100\n",
            "1022/1022 [==============================] - 0s 47us/step - loss: 0.2016 - accuracy: 0.9119 - val_loss: 0.2628 - val_accuracy: 0.8995\n",
            "Epoch 66/100\n",
            "1022/1022 [==============================] - 0s 50us/step - loss: 0.2057 - accuracy: 0.9139 - val_loss: 0.2609 - val_accuracy: 0.8950\n",
            "Epoch 67/100\n",
            "1022/1022 [==============================] - 0s 44us/step - loss: 0.2006 - accuracy: 0.9139 - val_loss: 0.2550 - val_accuracy: 0.8858\n",
            "Epoch 68/100\n",
            "1022/1022 [==============================] - 0s 51us/step - loss: 0.2028 - accuracy: 0.9178 - val_loss: 0.2538 - val_accuracy: 0.8904\n",
            "Epoch 69/100\n",
            "1022/1022 [==============================] - 0s 49us/step - loss: 0.2017 - accuracy: 0.9149 - val_loss: 0.2609 - val_accuracy: 0.8950\n",
            "Epoch 70/100\n",
            "1022/1022 [==============================] - 0s 54us/step - loss: 0.2008 - accuracy: 0.9168 - val_loss: 0.2626 - val_accuracy: 0.9041\n",
            "Epoch 71/100\n",
            "1022/1022 [==============================] - 0s 45us/step - loss: 0.2007 - accuracy: 0.9159 - val_loss: 0.2540 - val_accuracy: 0.8950\n",
            "Epoch 72/100\n",
            "1022/1022 [==============================] - 0s 45us/step - loss: 0.1977 - accuracy: 0.9129 - val_loss: 0.2617 - val_accuracy: 0.8950\n",
            "Epoch 73/100\n",
            "1022/1022 [==============================] - 0s 46us/step - loss: 0.1981 - accuracy: 0.9217 - val_loss: 0.2546 - val_accuracy: 0.8995\n",
            "Epoch 74/100\n",
            "1022/1022 [==============================] - 0s 47us/step - loss: 0.1979 - accuracy: 0.9188 - val_loss: 0.2508 - val_accuracy: 0.8995\n",
            "Epoch 75/100\n",
            "1022/1022 [==============================] - 0s 48us/step - loss: 0.1993 - accuracy: 0.9168 - val_loss: 0.2524 - val_accuracy: 0.8904\n",
            "Epoch 76/100\n",
            "1022/1022 [==============================] - 0s 46us/step - loss: 0.1987 - accuracy: 0.9188 - val_loss: 0.2542 - val_accuracy: 0.8904\n",
            "Epoch 77/100\n",
            "1022/1022 [==============================] - 0s 47us/step - loss: 0.1950 - accuracy: 0.9227 - val_loss: 0.2523 - val_accuracy: 0.8858\n",
            "Epoch 78/100\n",
            "1022/1022 [==============================] - 0s 46us/step - loss: 0.2015 - accuracy: 0.9110 - val_loss: 0.2502 - val_accuracy: 0.8858\n",
            "Epoch 79/100\n",
            "1022/1022 [==============================] - 0s 54us/step - loss: 0.2070 - accuracy: 0.9129 - val_loss: 0.2708 - val_accuracy: 0.8721\n",
            "Epoch 80/100\n",
            "1022/1022 [==============================] - 0s 47us/step - loss: 0.2097 - accuracy: 0.9149 - val_loss: 0.2515 - val_accuracy: 0.8858\n",
            "Epoch 81/100\n",
            "1022/1022 [==============================] - 0s 46us/step - loss: 0.1929 - accuracy: 0.9188 - val_loss: 0.2706 - val_accuracy: 0.8950\n",
            "Epoch 82/100\n",
            "1022/1022 [==============================] - 0s 54us/step - loss: 0.1979 - accuracy: 0.9188 - val_loss: 0.2583 - val_accuracy: 0.8904\n",
            "Epoch 83/100\n",
            "1022/1022 [==============================] - 0s 47us/step - loss: 0.1945 - accuracy: 0.9207 - val_loss: 0.2527 - val_accuracy: 0.8904\n",
            "Epoch 84/100\n",
            "1022/1022 [==============================] - 0s 50us/step - loss: 0.1941 - accuracy: 0.9217 - val_loss: 0.2536 - val_accuracy: 0.8950\n",
            "Epoch 85/100\n",
            "1022/1022 [==============================] - 0s 47us/step - loss: 0.1924 - accuracy: 0.9227 - val_loss: 0.2501 - val_accuracy: 0.8858\n",
            "Epoch 86/100\n",
            "1022/1022 [==============================] - 0s 48us/step - loss: 0.1950 - accuracy: 0.9178 - val_loss: 0.2587 - val_accuracy: 0.8904\n",
            "Epoch 87/100\n",
            "1022/1022 [==============================] - 0s 44us/step - loss: 0.1938 - accuracy: 0.9188 - val_loss: 0.2583 - val_accuracy: 0.8950\n",
            "Epoch 88/100\n",
            "1022/1022 [==============================] - 0s 49us/step - loss: 0.1952 - accuracy: 0.9217 - val_loss: 0.2529 - val_accuracy: 0.8904\n",
            "Epoch 89/100\n",
            "1022/1022 [==============================] - 0s 45us/step - loss: 0.1941 - accuracy: 0.9188 - val_loss: 0.2522 - val_accuracy: 0.8995\n",
            "Epoch 90/100\n",
            "1022/1022 [==============================] - 0s 48us/step - loss: 0.1914 - accuracy: 0.9237 - val_loss: 0.2565 - val_accuracy: 0.8904\n",
            "Epoch 91/100\n",
            "1022/1022 [==============================] - 0s 44us/step - loss: 0.1907 - accuracy: 0.9178 - val_loss: 0.2626 - val_accuracy: 0.8950\n",
            "Epoch 92/100\n",
            "1022/1022 [==============================] - 0s 47us/step - loss: 0.1947 - accuracy: 0.9227 - val_loss: 0.2948 - val_accuracy: 0.8858\n",
            "Epoch 93/100\n",
            "1022/1022 [==============================] - 0s 44us/step - loss: 0.1936 - accuracy: 0.9159 - val_loss: 0.2508 - val_accuracy: 0.8995\n",
            "Epoch 94/100\n",
            "1022/1022 [==============================] - 0s 45us/step - loss: 0.1910 - accuracy: 0.9188 - val_loss: 0.2725 - val_accuracy: 0.8950\n",
            "Epoch 95/100\n",
            "1022/1022 [==============================] - 0s 45us/step - loss: 0.1918 - accuracy: 0.9178 - val_loss: 0.2871 - val_accuracy: 0.8904\n",
            "Epoch 96/100\n",
            "1022/1022 [==============================] - 0s 43us/step - loss: 0.1890 - accuracy: 0.9217 - val_loss: 0.2528 - val_accuracy: 0.8950\n",
            "Epoch 97/100\n",
            "1022/1022 [==============================] - 0s 45us/step - loss: 0.1914 - accuracy: 0.9168 - val_loss: 0.2530 - val_accuracy: 0.8858\n",
            "Epoch 98/100\n",
            "1022/1022 [==============================] - 0s 45us/step - loss: 0.1879 - accuracy: 0.9237 - val_loss: 0.2554 - val_accuracy: 0.8904\n",
            "Epoch 99/100\n",
            "1022/1022 [==============================] - 0s 46us/step - loss: 0.1864 - accuracy: 0.9266 - val_loss: 0.2502 - val_accuracy: 0.8813\n",
            "Epoch 100/100\n",
            "1022/1022 [==============================] - 0s 46us/step - loss: 0.1892 - accuracy: 0.9247 - val_loss: 0.2628 - val_accuracy: 0.8950\n"
          ],
          "name": "stdout"
        }
      ]
    },
    {
      "cell_type": "code",
      "metadata": {
        "id": "z_0plqCWnkDD",
        "colab_type": "code",
        "colab": {
          "base_uri": "https://localhost:8080/",
          "height": 52
        },
        "outputId": "f50212f1-cf4b-421a-9875-5748bef3cfcd"
      },
      "source": [
        "# Evaluate the model\n",
        "classifier.evaluate(X_test, Y_test)[1]"
      ],
      "execution_count": null,
      "outputs": [
        {
          "output_type": "stream",
          "text": [
            "219/219 [==============================] - 0s 54us/step\n"
          ],
          "name": "stdout"
        },
        {
          "output_type": "execute_result",
          "data": {
            "text/plain": [
              "0.9041095972061157"
            ]
          },
          "metadata": {
            "tags": []
          },
          "execution_count": 542
        }
      ]
    },
    {
      "cell_type": "code",
      "metadata": {
        "id": "r10570jNrPhT",
        "colab_type": "code",
        "colab": {
          "base_uri": "https://localhost:8080/",
          "height": 35
        },
        "outputId": "b29cf494-2e7f-4bf7-c138-4d2e36e4df19"
      },
      "source": [
        "# List all data in history\n",
        "hist.history.keys()"
      ],
      "execution_count": null,
      "outputs": [
        {
          "output_type": "execute_result",
          "data": {
            "text/plain": [
              "dict_keys(['val_loss', 'val_accuracy', 'loss', 'accuracy'])"
            ]
          },
          "metadata": {
            "tags": []
          },
          "execution_count": 543
        }
      ]
    },
    {
      "cell_type": "code",
      "metadata": {
        "id": "w5kSV_j8nkHn",
        "colab_type": "code",
        "colab": {
          "base_uri": "https://localhost:8080/",
          "height": 295
        },
        "outputId": "11bdfd4c-9129-47db-c193-2cce0028ba15"
      },
      "source": [
        "# Plot Model loss\n",
        "import matplotlib\n",
        "plt.plot(hist.history['loss'])\n",
        "plt.plot(hist.history['val_loss'])\n",
        "plt.title('Model loss')\n",
        "# Headings\n",
        "plt.ylabel('Loss')\n",
        "plt.xlabel('Epoch')\n",
        "plt.legend(['Train', 'Val'], loc='upper right')\n",
        "plt.show()\n"
      ],
      "execution_count": null,
      "outputs": [
        {
          "output_type": "display_data",
          "data": {
            "image/png": "[encoded data removed]",
            "text/plain": [
              "<Figure size 432x288 with 1 Axes>"
            ]
          },
          "metadata": {
            "tags": [],
            "needs_background": "light"
          }
        }
      ]
    },
    {
      "cell_type": "code",
      "metadata": {
        "id": "ufzpcWgrq6QL",
        "colab_type": "code",
        "colab": {
          "base_uri": "https://localhost:8080/",
          "height": 295
        },
        "outputId": "a85d869f-f11c-4926-b270-11e7bc9e081a"
      },
      "source": [
        "# Plot Model accuracy\n",
        "plt.plot(hist.history['accuracy'])\n",
        "plt.plot(hist.history['val_accuracy'])\n",
        "plt.title('Model accuracy')\n",
        "plt.ylabel('Accuracy')\n",
        "plt.xlabel('Epoch')\n",
        "plt.legend(['Train', 'Val'], loc='lower right')\n",
        "plt.show()"
      ],
      "execution_count": null,
      "outputs": [
        {
          "output_type": "display_data",
          "data": {
            "image/png": "[encoded data removed]",
            "text/plain": [
              "<Figure size 432x288 with 1 Axes>"
            ]
          },
          "metadata": {
            "tags": [],
            "needs_background": "light"
          }
        }
      ]
    },
    {
      "cell_type": "markdown",
      "metadata": {
        "id": "gTzDrr_dtT17",
        "colab_type": "text"
      },
      "source": [
        "# L2 regularization and dropout\n",
        "* ## Regularization help in reducing Overfitting for our model"
      ]
    },
    {
      "cell_type": "code",
      "metadata": {
        "id": "XSKbW6SEtWOh",
        "colab_type": "code",
        "colab": {}
      },
      "source": [
        "# Import regulizers and Dropout\n",
        "from keras.layers import Dropout\n",
        "from keras import regularizers"
      ],
      "execution_count": null,
      "outputs": []
    },
    {
      "cell_type": "code",
      "metadata": {
        "id": "nD2QNMod7Y5Y",
        "colab_type": "code",
        "colab": {}
      },
      "source": [
        "# Added kernel_regularizer: Regularizer to apply a penalty on the layer's kernel\n",
        "classifier1= Sequential([\n",
        "    Dense(1000, activation='relu', kernel_regularizer=regularizers.l2(0.01), input_shape=(10,)),\n",
        "    Dropout(0.3),\n",
        "    Dense(1000, activation='relu', kernel_regularizer=regularizers.l2(0.01)),\n",
        "    Dropout(0.3),\n",
        "    Dense(1000, activation='relu', kernel_regularizer=regularizers.l2(0.01)),\n",
        "    Dropout(0.3),\n",
        "    Dense(1000, activation='relu', kernel_regularizer=regularizers.l2(0.01)),\n",
        "    Dropout(0.3),\n",
        "    Dense(1, activation='sigmoid', kernel_regularizer=regularizers.l2(0.01)),\n",
        "])"
      ],
      "execution_count": null,
      "outputs": []
    },
    {
      "cell_type": "code",
      "metadata": {
        "id": "-RIVw_Rj7Y8z",
        "colab_type": "code",
        "colab": {}
      },
      "source": [
        "# Compile\n",
        "classifier1.compile(optimizer='adam',\n",
        "              loss='binary_crossentropy',\n",
        "              metrics=['accuracy'])"
      ],
      "execution_count": null,
      "outputs": []
    },
    {
      "cell_type": "code",
      "metadata": {
        "id": "8U3prWYk7ZB1",
        "colab_type": "code",
        "colab": {
          "base_uri": "https://localhost:8080/",
          "height": 1000
        },
        "outputId": "bdc19e82-c13f-475f-b2a5-83edb25210b6"
      },
      "source": [
        "# Fit the model\n",
        "hist1 = classifier1.fit(X_train, Y_train,\n",
        "          batch_size=32, epochs=100,\n",
        "          validation_data=(X_val, Y_val))"
      ],
      "execution_count": null,
      "outputs": [
        {
          "output_type": "stream",
          "text": [
            "Train on 1022 samples, validate on 219 samples\n",
            "Epoch 1/100\n",
            "1022/1022 [==============================] - 3s 3ms/step - loss: 14.7280 - accuracy: 0.6321 - val_loss: 4.0616 - val_accuracy: 0.7260\n",
            "Epoch 2/100\n",
            "1022/1022 [==============================] - 2s 2ms/step - loss: 1.7295 - accuracy: 0.8386 - val_loss: 0.6807 - val_accuracy: 0.8539\n",
            "Epoch 3/100\n",
            "1022/1022 [==============================] - 2s 2ms/step - loss: 0.5777 - accuracy: 0.8591 - val_loss: 0.5643 - val_accuracy: 0.8493\n",
            "Epoch 4/100\n",
            "1022/1022 [==============================] - 2s 2ms/step - loss: 0.5059 - accuracy: 0.8748 - val_loss: 0.5240 - val_accuracy: 0.8721\n",
            "Epoch 5/100\n",
            "1022/1022 [==============================] - 2s 2ms/step - loss: 0.4876 - accuracy: 0.8757 - val_loss: 0.5485 - val_accuracy: 0.8447\n",
            "Epoch 6/100\n",
            "1022/1022 [==============================] - 2s 2ms/step - loss: 0.4740 - accuracy: 0.8845 - val_loss: 0.4860 - val_accuracy: 0.8630\n",
            "Epoch 7/100\n",
            "1022/1022 [==============================] - 2s 2ms/step - loss: 0.5212 - accuracy: 0.8483 - val_loss: 0.4748 - val_accuracy: 0.8721\n",
            "Epoch 8/100\n",
            "1022/1022 [==============================] - 2s 2ms/step - loss: 0.4659 - accuracy: 0.8875 - val_loss: 0.4717 - val_accuracy: 0.8676\n",
            "Epoch 9/100\n",
            "1022/1022 [==============================] - 2s 2ms/step - loss: 0.4585 - accuracy: 0.8894 - val_loss: 0.4619 - val_accuracy: 0.8721\n",
            "Epoch 10/100\n",
            "1022/1022 [==============================] - 2s 2ms/step - loss: 0.4483 - accuracy: 0.8963 - val_loss: 0.4533 - val_accuracy: 0.8584\n",
            "Epoch 11/100\n",
            "1022/1022 [==============================] - 2s 2ms/step - loss: 0.4486 - accuracy: 0.8796 - val_loss: 0.4563 - val_accuracy: 0.8630\n",
            "Epoch 12/100\n",
            "1022/1022 [==============================] - 2s 2ms/step - loss: 0.4694 - accuracy: 0.8777 - val_loss: 0.4597 - val_accuracy: 0.8630\n",
            "Epoch 13/100\n",
            "1022/1022 [==============================] - 2s 2ms/step - loss: 0.4490 - accuracy: 0.8865 - val_loss: 0.4674 - val_accuracy: 0.8721\n",
            "Epoch 14/100\n",
            "1022/1022 [==============================] - 2s 2ms/step - loss: 0.4567 - accuracy: 0.8826 - val_loss: 0.4647 - val_accuracy: 0.8676\n",
            "Epoch 15/100\n",
            "1022/1022 [==============================] - 2s 2ms/step - loss: 0.4439 - accuracy: 0.8875 - val_loss: 0.4529 - val_accuracy: 0.8676\n",
            "Epoch 16/100\n",
            "1022/1022 [==============================] - 2s 2ms/step - loss: 0.4436 - accuracy: 0.8924 - val_loss: 0.4783 - val_accuracy: 0.8676\n",
            "Epoch 17/100\n",
            "1022/1022 [==============================] - 2s 2ms/step - loss: 0.4462 - accuracy: 0.8806 - val_loss: 0.4474 - val_accuracy: 0.8447\n",
            "Epoch 18/100\n",
            "1022/1022 [==============================] - 2s 2ms/step - loss: 0.4399 - accuracy: 0.8904 - val_loss: 0.4546 - val_accuracy: 0.8721\n",
            "Epoch 19/100\n",
            "1022/1022 [==============================] - 2s 2ms/step - loss: 0.4325 - accuracy: 0.8953 - val_loss: 0.4764 - val_accuracy: 0.8676\n",
            "Epoch 20/100\n",
            "1022/1022 [==============================] - 2s 2ms/step - loss: 0.4387 - accuracy: 0.8982 - val_loss: 0.4535 - val_accuracy: 0.8721\n",
            "Epoch 21/100\n",
            "1022/1022 [==============================] - 2s 2ms/step - loss: 0.4402 - accuracy: 0.8875 - val_loss: 0.5234 - val_accuracy: 0.8493\n",
            "Epoch 22/100\n",
            "1022/1022 [==============================] - 2s 2ms/step - loss: 0.4618 - accuracy: 0.8855 - val_loss: 0.4466 - val_accuracy: 0.8630\n",
            "Epoch 23/100\n",
            "1022/1022 [==============================] - 2s 2ms/step - loss: 0.4375 - accuracy: 0.8845 - val_loss: 0.4722 - val_accuracy: 0.8813\n",
            "Epoch 24/100\n",
            "1022/1022 [==============================] - 2s 2ms/step - loss: 0.4485 - accuracy: 0.8875 - val_loss: 0.4502 - val_accuracy: 0.8721\n",
            "Epoch 25/100\n",
            "1022/1022 [==============================] - 2s 2ms/step - loss: 0.4467 - accuracy: 0.8855 - val_loss: 0.4430 - val_accuracy: 0.8584\n",
            "Epoch 26/100\n",
            "1022/1022 [==============================] - 2s 2ms/step - loss: 0.4344 - accuracy: 0.8992 - val_loss: 0.4601 - val_accuracy: 0.8767\n",
            "Epoch 27/100\n",
            "1022/1022 [==============================] - 2s 2ms/step - loss: 0.4344 - accuracy: 0.9022 - val_loss: 0.4453 - val_accuracy: 0.8584\n",
            "Epoch 28/100\n",
            "1022/1022 [==============================] - 4s 4ms/step - loss: 0.4456 - accuracy: 0.8826 - val_loss: 0.4675 - val_accuracy: 0.8630\n",
            "Epoch 29/100\n",
            "1022/1022 [==============================] - 4s 4ms/step - loss: 0.4397 - accuracy: 0.8904 - val_loss: 0.5212 - val_accuracy: 0.8630\n",
            "Epoch 30/100\n",
            "1022/1022 [==============================] - 4s 4ms/step - loss: 0.4578 - accuracy: 0.8836 - val_loss: 0.4810 - val_accuracy: 0.8813\n",
            "Epoch 31/100\n",
            "1022/1022 [==============================] - 2s 2ms/step - loss: 0.4382 - accuracy: 0.8826 - val_loss: 0.4764 - val_accuracy: 0.8630\n",
            "Epoch 32/100\n",
            "1022/1022 [==============================] - 2s 2ms/step - loss: 0.4352 - accuracy: 0.8924 - val_loss: 0.4733 - val_accuracy: 0.8813\n",
            "Epoch 33/100\n",
            "1022/1022 [==============================] - 2s 2ms/step - loss: 0.4554 - accuracy: 0.8816 - val_loss: 0.4523 - val_accuracy: 0.8813\n",
            "Epoch 34/100\n",
            "1022/1022 [==============================] - 2s 2ms/step - loss: 0.4299 - accuracy: 0.8973 - val_loss: 0.4360 - val_accuracy: 0.8539\n",
            "Epoch 35/100\n",
            "1022/1022 [==============================] - 2s 2ms/step - loss: 0.4248 - accuracy: 0.9012 - val_loss: 0.4458 - val_accuracy: 0.8676\n",
            "Epoch 36/100\n",
            "1022/1022 [==============================] - 2s 2ms/step - loss: 0.4357 - accuracy: 0.8963 - val_loss: 0.4944 - val_accuracy: 0.8630\n",
            "Epoch 37/100\n",
            "1022/1022 [==============================] - 2s 2ms/step - loss: 0.4576 - accuracy: 0.8777 - val_loss: 0.4406 - val_accuracy: 0.8539\n",
            "Epoch 38/100\n",
            "1022/1022 [==============================] - 2s 2ms/step - loss: 0.4346 - accuracy: 0.8845 - val_loss: 0.4427 - val_accuracy: 0.8676\n",
            "Epoch 39/100\n",
            "1022/1022 [==============================] - 2s 2ms/step - loss: 0.4258 - accuracy: 0.8855 - val_loss: 0.4654 - val_accuracy: 0.8813\n",
            "Epoch 40/100\n",
            "1022/1022 [==============================] - 2s 2ms/step - loss: 0.4299 - accuracy: 0.8904 - val_loss: 0.4375 - val_accuracy: 0.8539\n",
            "Epoch 41/100\n",
            "1022/1022 [==============================] - 2s 2ms/step - loss: 0.4239 - accuracy: 0.8914 - val_loss: 0.4436 - val_accuracy: 0.8676\n",
            "Epoch 42/100\n",
            "1022/1022 [==============================] - 2s 2ms/step - loss: 0.4516 - accuracy: 0.8816 - val_loss: 0.4438 - val_accuracy: 0.8676\n",
            "Epoch 43/100\n",
            "1022/1022 [==============================] - 2s 2ms/step - loss: 0.4329 - accuracy: 0.8943 - val_loss: 0.4346 - val_accuracy: 0.8584\n",
            "Epoch 44/100\n",
            "1022/1022 [==============================] - 2s 2ms/step - loss: 0.4282 - accuracy: 0.8933 - val_loss: 0.4580 - val_accuracy: 0.8676\n",
            "Epoch 45/100\n",
            "1022/1022 [==============================] - 2s 2ms/step - loss: 0.4492 - accuracy: 0.8943 - val_loss: 0.4515 - val_accuracy: 0.8630\n",
            "Epoch 46/100\n",
            "1022/1022 [==============================] - 2s 2ms/step - loss: 0.4675 - accuracy: 0.8699 - val_loss: 0.4511 - val_accuracy: 0.8813\n",
            "Epoch 47/100\n",
            "1022/1022 [==============================] - 2s 2ms/step - loss: 0.4437 - accuracy: 0.8845 - val_loss: 0.4587 - val_accuracy: 0.8676\n",
            "Epoch 48/100\n",
            "1022/1022 [==============================] - 2s 2ms/step - loss: 0.4311 - accuracy: 0.8836 - val_loss: 0.4737 - val_accuracy: 0.8858\n",
            "Epoch 49/100\n",
            "1022/1022 [==============================] - 2s 2ms/step - loss: 0.4409 - accuracy: 0.8796 - val_loss: 0.4407 - val_accuracy: 0.8721\n",
            "Epoch 50/100\n",
            "1022/1022 [==============================] - 2s 2ms/step - loss: 0.4316 - accuracy: 0.8894 - val_loss: 0.4532 - val_accuracy: 0.8813\n",
            "Epoch 51/100\n",
            "1022/1022 [==============================] - 2s 2ms/step - loss: 0.4306 - accuracy: 0.8865 - val_loss: 0.4394 - val_accuracy: 0.8767\n",
            "Epoch 52/100\n",
            "1022/1022 [==============================] - 2s 2ms/step - loss: 0.4320 - accuracy: 0.8924 - val_loss: 0.4430 - val_accuracy: 0.8630\n",
            "Epoch 53/100\n",
            "1022/1022 [==============================] - 2s 2ms/step - loss: 0.4444 - accuracy: 0.8816 - val_loss: 0.4404 - val_accuracy: 0.8676\n",
            "Epoch 54/100\n",
            "1022/1022 [==============================] - 2s 2ms/step - loss: 0.4268 - accuracy: 0.9002 - val_loss: 0.4578 - val_accuracy: 0.8767\n",
            "Epoch 55/100\n",
            "1022/1022 [==============================] - 2s 2ms/step - loss: 0.4333 - accuracy: 0.8904 - val_loss: 0.4382 - val_accuracy: 0.8630\n",
            "Epoch 56/100\n",
            "1022/1022 [==============================] - 2s 2ms/step - loss: 0.4278 - accuracy: 0.8943 - val_loss: 0.4374 - val_accuracy: 0.8630\n",
            "Epoch 57/100\n",
            "1022/1022 [==============================] - 2s 2ms/step - loss: 0.4262 - accuracy: 0.8963 - val_loss: 0.4875 - val_accuracy: 0.8584\n",
            "Epoch 58/100\n",
            "1022/1022 [==============================] - 2s 2ms/step - loss: 0.4293 - accuracy: 0.8924 - val_loss: 0.4424 - val_accuracy: 0.8584\n",
            "Epoch 59/100\n",
            "1022/1022 [==============================] - 2s 2ms/step - loss: 0.4151 - accuracy: 0.8914 - val_loss: 0.4362 - val_accuracy: 0.8767\n",
            "Epoch 60/100\n",
            "1022/1022 [==============================] - 2s 2ms/step - loss: 0.4378 - accuracy: 0.8855 - val_loss: 0.4449 - val_accuracy: 0.8676\n",
            "Epoch 61/100\n",
            "1022/1022 [==============================] - 2s 2ms/step - loss: 0.4194 - accuracy: 0.8963 - val_loss: 0.4381 - val_accuracy: 0.8584\n",
            "Epoch 62/100\n",
            "1022/1022 [==============================] - 2s 2ms/step - loss: 0.4509 - accuracy: 0.8875 - val_loss: 0.5092 - val_accuracy: 0.8539\n",
            "Epoch 63/100\n",
            "1022/1022 [==============================] - 2s 2ms/step - loss: 0.4430 - accuracy: 0.8855 - val_loss: 0.4438 - val_accuracy: 0.8721\n",
            "Epoch 64/100\n",
            "1022/1022 [==============================] - 2s 2ms/step - loss: 0.4196 - accuracy: 0.9031 - val_loss: 0.4363 - val_accuracy: 0.8630\n",
            "Epoch 65/100\n",
            "1022/1022 [==============================] - 2s 2ms/step - loss: 0.4336 - accuracy: 0.8826 - val_loss: 0.4365 - val_accuracy: 0.8676\n",
            "Epoch 66/100\n",
            "1022/1022 [==============================] - 2s 2ms/step - loss: 0.4201 - accuracy: 0.9002 - val_loss: 0.4384 - val_accuracy: 0.8767\n",
            "Epoch 67/100\n",
            "1022/1022 [==============================] - 2s 2ms/step - loss: 0.4308 - accuracy: 0.8982 - val_loss: 0.4566 - val_accuracy: 0.8813\n",
            "Epoch 68/100\n",
            "1022/1022 [==============================] - 2s 2ms/step - loss: 0.4205 - accuracy: 0.9041 - val_loss: 0.4509 - val_accuracy: 0.8767\n",
            "Epoch 69/100\n",
            "1022/1022 [==============================] - 2s 2ms/step - loss: 0.4199 - accuracy: 0.8904 - val_loss: 0.4360 - val_accuracy: 0.8630\n",
            "Epoch 70/100\n",
            "1022/1022 [==============================] - 2s 2ms/step - loss: 0.4361 - accuracy: 0.8924 - val_loss: 0.4472 - val_accuracy: 0.8676\n",
            "Epoch 71/100\n",
            "1022/1022 [==============================] - 2s 2ms/step - loss: 0.4235 - accuracy: 0.8943 - val_loss: 0.4886 - val_accuracy: 0.8539\n",
            "Epoch 72/100\n",
            "1022/1022 [==============================] - 2s 2ms/step - loss: 0.4338 - accuracy: 0.8865 - val_loss: 0.4447 - val_accuracy: 0.8721\n",
            "Epoch 73/100\n",
            "1022/1022 [==============================] - 2s 2ms/step - loss: 0.4338 - accuracy: 0.8904 - val_loss: 0.4362 - val_accuracy: 0.8584\n",
            "Epoch 74/100\n",
            "1022/1022 [==============================] - 2s 2ms/step - loss: 0.4226 - accuracy: 0.8885 - val_loss: 0.4588 - val_accuracy: 0.8813\n",
            "Epoch 75/100\n",
            "1022/1022 [==============================] - 2s 2ms/step - loss: 0.4476 - accuracy: 0.8718 - val_loss: 0.4376 - val_accuracy: 0.8630\n",
            "Epoch 76/100\n",
            "1022/1022 [==============================] - 2s 2ms/step - loss: 0.4300 - accuracy: 0.8904 - val_loss: 0.4877 - val_accuracy: 0.8584\n",
            "Epoch 77/100\n",
            "1022/1022 [==============================] - 2s 2ms/step - loss: 0.4476 - accuracy: 0.8787 - val_loss: 0.4646 - val_accuracy: 0.8676\n",
            "Epoch 78/100\n",
            "1022/1022 [==============================] - 2s 2ms/step - loss: 0.4274 - accuracy: 0.8924 - val_loss: 0.4389 - val_accuracy: 0.8676\n",
            "Epoch 79/100\n",
            "1022/1022 [==============================] - 2s 2ms/step - loss: 0.4327 - accuracy: 0.8894 - val_loss: 0.4412 - val_accuracy: 0.8721\n",
            "Epoch 80/100\n",
            "1022/1022 [==============================] - 2s 2ms/step - loss: 0.4267 - accuracy: 0.8924 - val_loss: 0.4583 - val_accuracy: 0.8721\n",
            "Epoch 81/100\n",
            "1022/1022 [==============================] - 2s 2ms/step - loss: 0.4284 - accuracy: 0.8855 - val_loss: 0.4373 - val_accuracy: 0.8630\n",
            "Epoch 82/100\n",
            "1022/1022 [==============================] - 2s 2ms/step - loss: 0.4283 - accuracy: 0.8953 - val_loss: 0.4648 - val_accuracy: 0.8630\n",
            "Epoch 83/100\n",
            "1022/1022 [==============================] - 2s 2ms/step - loss: 0.4322 - accuracy: 0.8855 - val_loss: 0.4446 - val_accuracy: 0.8721\n",
            "Epoch 84/100\n",
            "1022/1022 [==============================] - 2s 2ms/step - loss: 0.4405 - accuracy: 0.8806 - val_loss: 0.4413 - val_accuracy: 0.8584\n",
            "Epoch 85/100\n",
            "1022/1022 [==============================] - 2s 2ms/step - loss: 0.4389 - accuracy: 0.8885 - val_loss: 0.4692 - val_accuracy: 0.8630\n",
            "Epoch 86/100\n",
            "1022/1022 [==============================] - 2s 2ms/step - loss: 0.4181 - accuracy: 0.8973 - val_loss: 0.4349 - val_accuracy: 0.8630\n",
            "Epoch 87/100\n",
            "1022/1022 [==============================] - 2s 2ms/step - loss: 0.4573 - accuracy: 0.8738 - val_loss: 0.4476 - val_accuracy: 0.8676\n",
            "Epoch 88/100\n",
            "1022/1022 [==============================] - 2s 2ms/step - loss: 0.4393 - accuracy: 0.8826 - val_loss: 0.4736 - val_accuracy: 0.8676\n",
            "Epoch 89/100\n",
            "1022/1022 [==============================] - 2s 2ms/step - loss: 0.4405 - accuracy: 0.8914 - val_loss: 0.4427 - val_accuracy: 0.8676\n",
            "Epoch 90/100\n",
            "1022/1022 [==============================] - 2s 2ms/step - loss: 0.4218 - accuracy: 0.8973 - val_loss: 0.4377 - val_accuracy: 0.8676\n",
            "Epoch 91/100\n",
            "1022/1022 [==============================] - 2s 2ms/step - loss: 0.4206 - accuracy: 0.8992 - val_loss: 0.4443 - val_accuracy: 0.8676\n",
            "Epoch 92/100\n",
            "1022/1022 [==============================] - 2s 2ms/step - loss: 0.4301 - accuracy: 0.8924 - val_loss: 0.4361 - val_accuracy: 0.8676\n",
            "Epoch 93/100\n",
            "1022/1022 [==============================] - 2s 2ms/step - loss: 0.4276 - accuracy: 0.8953 - val_loss: 0.4456 - val_accuracy: 0.8721\n",
            "Epoch 94/100\n",
            "1022/1022 [==============================] - 2s 2ms/step - loss: 0.4403 - accuracy: 0.8767 - val_loss: 0.4613 - val_accuracy: 0.8630\n",
            "Epoch 95/100\n",
            "1022/1022 [==============================] - 2s 2ms/step - loss: 0.4306 - accuracy: 0.8885 - val_loss: 0.4334 - val_accuracy: 0.8584\n",
            "Epoch 96/100\n",
            "1022/1022 [==============================] - 2s 2ms/step - loss: 0.4256 - accuracy: 0.8953 - val_loss: 0.4540 - val_accuracy: 0.8676\n",
            "Epoch 97/100\n",
            "1022/1022 [==============================] - 2s 2ms/step - loss: 0.4178 - accuracy: 0.8885 - val_loss: 0.4440 - val_accuracy: 0.8767\n",
            "Epoch 98/100\n",
            "1022/1022 [==============================] - 2s 2ms/step - loss: 0.4118 - accuracy: 0.9002 - val_loss: 0.4428 - val_accuracy: 0.8630\n",
            "Epoch 99/100\n",
            "1022/1022 [==============================] - 2s 2ms/step - loss: 0.4536 - accuracy: 0.8767 - val_loss: 0.4607 - val_accuracy: 0.8767\n",
            "Epoch 100/100\n",
            "1022/1022 [==============================] - 2s 2ms/step - loss: 0.4287 - accuracy: 0.8826 - val_loss: 0.4548 - val_accuracy: 0.8767\n"
          ],
          "name": "stdout"
        }
      ]
    },
    {
      "cell_type": "code",
      "metadata": {
        "id": "8UEYmK5g7ZHy",
        "colab_type": "code",
        "colab": {
          "base_uri": "https://localhost:8080/",
          "height": 295
        },
        "outputId": "0fa9645d-9531-4d78-cf0c-082a8368bd54"
      },
      "source": [
        "# Plot Model Loss\n",
        "plt.plot(hist1.history['loss'])\n",
        "plt.plot(hist1.history['val_loss'])\n",
        "plt.title('Model loss')\n",
        "plt.ylabel('Loss')\n",
        "plt.xlabel('Epoch')\n",
        "plt.legend(['Train', 'Val'], loc='upper right')\n",
        "plt.ylim(top=1.2, bottom=0)\n",
        "plt.show()"
      ],
      "execution_count": null,
      "outputs": [
        {
          "output_type": "display_data",
          "data": {
            "image/png": "[encoded data removed]",
            "text/plain": [
              "<Figure size 432x288 with 1 Axes>"
            ]
          },
          "metadata": {
            "tags": [],
            "needs_background": "light"
          }
        }
      ]
    },
    {
      "cell_type": "code",
      "metadata": {
        "id": "yCo5Jr-G8d-Z",
        "colab_type": "code",
        "colab": {
          "base_uri": "https://localhost:8080/",
          "height": 295
        },
        "outputId": "b0577953-04e0-4db4-fe0a-68e4f65a634b"
      },
      "source": [
        "# Plot Model accuracy\n",
        "plt.plot(hist1.history['accuracy'])\n",
        "plt.plot(hist1.history['val_accuracy'])\n",
        "plt.title('Model accuracy')\n",
        "plt.ylabel('Accuracy')\n",
        "plt.xlabel('Epoch')\n",
        "plt.legend(['Train', 'Val'], loc='lower right')\n",
        "plt.show()"
      ],
      "execution_count": null,
      "outputs": [
        {
          "output_type": "display_data",
          "data": {
            "image/png": "[encoded data removed]",
            "text/plain": [
              "<Figure size 432x288 with 1 Axes>"
            ]
          },
          "metadata": {
            "tags": [],
            "needs_background": "light"
          }
        }
      ]
    },
    {
      "cell_type": "code",
      "metadata": {
        "id": "RokIeSY_-0o_",
        "colab_type": "code",
        "colab": {
          "base_uri": "https://localhost:8080/",
          "height": 35
        },
        "outputId": "aee7ec52-e588-460a-b01d-8dc029fdd700"
      },
      "source": [
        "# Evaluate the model\n",
        "scores= classifier1.evaluate(X_test, Y_test, verbose=0)\n",
        "print(\"%s: %.2f%%\" % (model.metrics_names[1], scores[1]*100))"
      ],
      "execution_count": null,
      "outputs": [
        {
          "output_type": "stream",
          "text": [
            "accuracy: 88.13%\n"
          ],
          "name": "stdout"
        }
      ]
    },
    {
      "cell_type": "markdown",
      "metadata": {
        "id": "Jj2WlEINHFmm",
        "colab_type": "text"
      },
      "source": [
        "* ## Achieved 88.13% as accuracy with ANN model."
      ]
    }
  ]
}